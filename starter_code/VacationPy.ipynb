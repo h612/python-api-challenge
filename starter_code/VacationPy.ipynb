{
 "cells": [
  {
   "cell_type": "markdown",
   "metadata": {},
   "source": [
    "# VacationPy\n",
    "----\n",
    "\n",
    "#### Note\n",
    "* Keep an eye on your API usage. Use https://developers.google.com/maps/reporting/gmp-reporting as reference for how to monitor your usage and billing.\n",
    "\n",
    "* Instructions have been included for each segment. You do not have to follow them exactly, but they are included to help you think through the steps."
   ]
  },
  {
   "cell_type": "code",
   "execution_count": null,
   "metadata": {},
   "outputs": [],
   "source": []
  },
  {
   "cell_type": "code",
   "execution_count": 31,
   "metadata": {},
   "outputs": [],
   "source": [
    "# Dependencies and Setup\n",
    "import matplotlib.pyplot as plt\n",
    "import pandas as pd\n",
    "import numpy as np\n",
    "import requests\n",
    "import gmaps\n",
    "import os\n",
    "from pprint import pprint\n",
    "# Import API key\n",
    "from api_keys import g_key"
   ]
  },
  {
   "cell_type": "markdown",
   "metadata": {},
   "source": [
    "### Store Part I results into DataFrame\n",
    "* Load the csv exported in Part I to a DataFrame"
   ]
  },
  {
   "cell_type": "code",
   "execution_count": 32,
   "metadata": {},
   "outputs": [
    {
     "data": {
      "text/plain": [
       "403"
      ]
     },
     "execution_count": 32,
     "metadata": {},
     "output_type": "execute_result"
    }
   ],
   "source": [
    "cityDatadf = pd.read_csv(\"../output_data/citiesData_WeatherPy.csv\")\n",
    "cityDatadf.head()\n",
    "cityDatadf.dropna(inplace = True) \n",
    "len(cityDatadf)"
   ]
  },
  {
   "cell_type": "markdown",
   "metadata": {},
   "source": [
    "### Humidity Heatmap\n",
    "* Configure gmaps.\n",
    "* Use the Lat and Lng as locations and Humidity as the weight.\n",
    "* Add Heatmap layer to map."
   ]
  },
  {
   "cell_type": "code",
   "execution_count": 33,
   "metadata": {},
   "outputs": [],
   "source": [
    "# Store latitude and longitude in locations\n",
    "locations = cityDatadf[[\"Lat\", \"Lng\"]]\n",
    "humidity=cityDatadf[\"Humidity\"].astype(float)\n",
    "gmaps.configure(api_key=g_key)\n",
    "fig = gmaps.figure()\n"
   ]
  },
  {
   "cell_type": "code",
   "execution_count": 34,
   "metadata": {},
   "outputs": [
    {
     "data": {
      "text/plain": [
       "count    403.000000\n",
       "mean      71.776675\n",
       "std       19.876854\n",
       "min       10.000000\n",
       "25%       61.500000\n",
       "50%       77.000000\n",
       "75%       86.000000\n",
       "max      100.000000\n",
       "Name: Humidity, dtype: float64"
      ]
     },
     "execution_count": 34,
     "metadata": {},
     "output_type": "execute_result"
    }
   ],
   "source": [
    "cityDatadf[\"Humidity\"].describe()"
   ]
  },
  {
   "cell_type": "code",
   "execution_count": 35,
   "metadata": {},
   "outputs": [
    {
     "data": {
      "application/vnd.jupyter.widget-view+json": {
       "model_id": "3bd2f2f3fda146e1a978cad54506dc32",
       "version_major": 2,
       "version_minor": 0
      },
      "text/plain": [
       "Figure(layout=FigureLayout(height='420px'))"
      ]
     },
     "metadata": {},
     "output_type": "display_data"
    }
   ],
   "source": [
    "# Create heat layer\n",
    "heat_layer = gmaps.heatmap_layer(locations, weights=humidity, \n",
    "                                 dissipating=False, max_intensity=30,\n",
    "                                 point_radius=5)\n",
    "fig.add_layer(heat_layer)\n",
    "fig# Display figure"
   ]
  },
  {
   "cell_type": "code",
   "execution_count": 36,
   "metadata": {},
   "outputs": [
    {
     "data": {
      "text/plain": [
       "<Figure size 432x288 with 0 Axes>"
      ]
     },
     "metadata": {},
     "output_type": "display_data"
    }
   ],
   "source": [
    "plt.savefig('../output_data/3 Latitude Vs Cloudiness.png')"
   ]
  },
  {
   "cell_type": "markdown",
   "metadata": {},
   "source": [
    "### Create new DataFrame fitting weather criteria\n",
    "* Narrow down the cities to fit weather conditions.\n",
    "* Drop any rows will null values."
   ]
  },
  {
   "cell_type": "code",
   "execution_count": 37,
   "metadata": {},
   "outputs": [
    {
     "data": {
      "text/plain": [
       "21"
      ]
     },
     "execution_count": 37,
     "metadata": {},
     "output_type": "execute_result"
    }
   ],
   "source": [
    "#suitable conditions for self\n",
    "goodWeather_df=cityDatadf.loc[(cityDatadf[\"Humidity\"]<70) &\n",
    "              (cityDatadf[\"Max Temp\"]<50) &\n",
    "              (cityDatadf[\"Max Temp\"]>20)]\n",
    "len(goodWeather_df)"
   ]
  },
  {
   "cell_type": "markdown",
   "metadata": {},
   "source": [
    "### Hotel Map\n",
    "* Store into variable named `hotel_df`.\n",
    "* Add a \"Hotel Name\" column to the DataFrame.\n",
    "* Set parameters to search for hotels with 5000 meters.\n",
    "* Hit the Google Places API for each city's coordinates.\n",
    "* Store the first Hotel result into the DataFrame.\n",
    "* Plot markers on top of the heatmap."
   ]
  },
  {
   "cell_type": "code",
   "execution_count": 38,
   "metadata": {},
   "outputs": [],
   "source": [
    "hotel_df=goodWeather_df"
   ]
  },
  {
   "cell_type": "code",
   "execution_count": 39,
   "metadata": {},
   "outputs": [
    {
     "name": "stderr",
     "output_type": "stream",
     "text": [
      "C:\\Users\\HUMA\\Anaconda3\\lib\\site-packages\\ipykernel_launcher.py:1: SettingWithCopyWarning: \n",
      "A value is trying to be set on a copy of a slice from a DataFrame.\n",
      "Try using .loc[row_indexer,col_indexer] = value instead\n",
      "\n",
      "See the caveats in the documentation: http://pandas.pydata.org/pandas-docs/stable/user_guide/indexing.html#returning-a-view-versus-a-copy\n",
      "  \"\"\"Entry point for launching an IPython kernel.\n"
     ]
    },
    {
     "data": {
      "text/html": [
       "<div>\n",
       "<style scoped>\n",
       "    .dataframe tbody tr th:only-of-type {\n",
       "        vertical-align: middle;\n",
       "    }\n",
       "\n",
       "    .dataframe tbody tr th {\n",
       "        vertical-align: top;\n",
       "    }\n",
       "\n",
       "    .dataframe thead th {\n",
       "        text-align: right;\n",
       "    }\n",
       "</style>\n",
       "<table border=\"1\" class=\"dataframe\">\n",
       "  <thead>\n",
       "    <tr style=\"text-align: right;\">\n",
       "      <th></th>\n",
       "      <th>Unnamed: 0</th>\n",
       "      <th>City</th>\n",
       "      <th>Lat</th>\n",
       "      <th>Lng</th>\n",
       "      <th>Max Temp</th>\n",
       "      <th>Humidity</th>\n",
       "      <th>Cloudiness</th>\n",
       "      <th>Wind Speed</th>\n",
       "      <th>Country</th>\n",
       "      <th>Date</th>\n",
       "      <th>Hotel Name</th>\n",
       "    </tr>\n",
       "  </thead>\n",
       "  <tbody>\n",
       "    <tr>\n",
       "      <td>13</td>\n",
       "      <td>13</td>\n",
       "      <td>Punta Arenas</td>\n",
       "      <td>-53.1500</td>\n",
       "      <td>-70.9167</td>\n",
       "      <td>33.91</td>\n",
       "      <td>60</td>\n",
       "      <td>75</td>\n",
       "      <td>5.75</td>\n",
       "      <td>CL</td>\n",
       "      <td>1631760722</td>\n",
       "      <td></td>\n",
       "    </tr>\n",
       "    <tr>\n",
       "      <td>23</td>\n",
       "      <td>23</td>\n",
       "      <td>Chokurdakh</td>\n",
       "      <td>70.6333</td>\n",
       "      <td>147.9167</td>\n",
       "      <td>39.18</td>\n",
       "      <td>63</td>\n",
       "      <td>94</td>\n",
       "      <td>9.40</td>\n",
       "      <td>RU</td>\n",
       "      <td>1631760736</td>\n",
       "      <td></td>\n",
       "    </tr>\n",
       "    <tr>\n",
       "      <td>33</td>\n",
       "      <td>33</td>\n",
       "      <td>Cherskiy</td>\n",
       "      <td>68.7500</td>\n",
       "      <td>161.3000</td>\n",
       "      <td>36.23</td>\n",
       "      <td>57</td>\n",
       "      <td>87</td>\n",
       "      <td>11.92</td>\n",
       "      <td>RU</td>\n",
       "      <td>1631760752</td>\n",
       "      <td></td>\n",
       "    </tr>\n",
       "    <tr>\n",
       "      <td>67</td>\n",
       "      <td>67</td>\n",
       "      <td>Bluff</td>\n",
       "      <td>-46.6000</td>\n",
       "      <td>168.3333</td>\n",
       "      <td>48.79</td>\n",
       "      <td>59</td>\n",
       "      <td>82</td>\n",
       "      <td>12.88</td>\n",
       "      <td>NZ</td>\n",
       "      <td>1631760793</td>\n",
       "      <td></td>\n",
       "    </tr>\n",
       "    <tr>\n",
       "      <td>103</td>\n",
       "      <td>103</td>\n",
       "      <td>Fort Nelson</td>\n",
       "      <td>58.8053</td>\n",
       "      <td>-122.7002</td>\n",
       "      <td>49.59</td>\n",
       "      <td>62</td>\n",
       "      <td>40</td>\n",
       "      <td>5.75</td>\n",
       "      <td>CA</td>\n",
       "      <td>1631760836</td>\n",
       "      <td></td>\n",
       "    </tr>\n",
       "  </tbody>\n",
       "</table>\n",
       "</div>"
      ],
      "text/plain": [
       "     Unnamed: 0          City      Lat       Lng  Max Temp  Humidity  \\\n",
       "13           13  Punta Arenas -53.1500  -70.9167     33.91        60   \n",
       "23           23    Chokurdakh  70.6333  147.9167     39.18        63   \n",
       "33           33      Cherskiy  68.7500  161.3000     36.23        57   \n",
       "67           67         Bluff -46.6000  168.3333     48.79        59   \n",
       "103         103   Fort Nelson  58.8053 -122.7002     49.59        62   \n",
       "\n",
       "     Cloudiness  Wind Speed Country        Date Hotel Name  \n",
       "13           75        5.75      CL  1631760722             \n",
       "23           94        9.40      RU  1631760736             \n",
       "33           87       11.92      RU  1631760752             \n",
       "67           82       12.88      NZ  1631760793             \n",
       "103          40        5.75      CA  1631760836             "
      ]
     },
     "execution_count": 39,
     "metadata": {},
     "output_type": "execute_result"
    }
   ],
   "source": [
    "hotel_df[\"Hotel Name\"]=\"\"\n",
    "hotel_df.head()"
   ]
  },
  {
   "cell_type": "code",
   "execution_count": 45,
   "metadata": {
    "scrolled": false
   },
   "outputs": [
    {
     "name": "stdout",
     "output_type": "stream",
     "text": [
      "13\n",
      "Punta Arenas\n",
      "23\n",
      "Chokurdakh\n",
      "33\n",
      "Chersky\n",
      "67\n",
      "Invercargill\n",
      "103\n",
      "Fort Nelson\n",
      "112\n",
      "Qaqortoq\n",
      "137\n",
      "Red Deer\n",
      "146\n",
      "Pangnirtung\n",
      "147\n",
      "Kouvola\n",
      "185\n",
      "Dunedin\n",
      "189\n",
      "Hammerfest\n",
      "228\n",
      "Mazyr\n",
      "236\n",
      "Provideniya\n",
      "247\n",
      "Lavrentiya\n",
      "254\n",
      "Ashburton\n",
      "262\n",
      "Sisimiut\n",
      "265\n",
      "Jasper\n",
      "305\n",
      "Verkhneviliuisk\n",
      "306\n",
      "Ust-Kut\n",
      "335\n",
      "Kalahari CBDC\n",
      "372\n",
      "Tolyatti\n"
     ]
    }
   ],
   "source": [
    "# params dictionary to update each iteration\n",
    "params = {\n",
    "    \"radius\": 50000,\n",
    "   # \"types\":\"hotels\",\n",
    "    #\"keyword\":\"vacation\",\n",
    "    \"key\": g_key\n",
    "}\n",
    "#print(g_key)\n",
    "count=0\n",
    "for index, row in hotel_df.iterrows():\n",
    "    # get lat, lng from df\n",
    "    lat = row[\"Lat\"]\n",
    "    lng = row[\"Lng\"]\n",
    "        # change location each iteration while leaving original params in place\n",
    "    params[\"location\"] = f\"{lat},{lng}\"\n",
    "    print(index)\n",
    "    # Use the search term: \"International Airport\" and our lat/lng\n",
    "    base_url = \"https://maps.googleapis.com/maps/api/place/nearbysearch/json\"\n",
    "        # make request and print url\n",
    "    \n",
    "    \n",
    "    #pprint(result)\n",
    "    try:\n",
    "        result = requests.get(base_url, params=params).json()\n",
    "        name= result[\"results\"][0][\"name\"] \n",
    "        print(name)\n",
    "        hotel_df.loc[index,\"Hotel Name\"] =name\n",
    "    except:\n",
    "        print(\"skipping\")"
   ]
  },
  {
   "cell_type": "markdown",
   "metadata": {},
   "source": []
  },
  {
   "cell_type": "code",
   "execution_count": 46,
   "metadata": {},
   "outputs": [
    {
     "data": {
      "text/plain": [
       "'Tolyatti'"
      ]
     },
     "execution_count": 46,
     "metadata": {},
     "output_type": "execute_result"
    }
   ],
   "source": [
    "name"
   ]
  },
  {
   "cell_type": "code",
   "execution_count": 47,
   "metadata": {},
   "outputs": [
    {
     "data": {
      "text/html": [
       "<div>\n",
       "<style scoped>\n",
       "    .dataframe tbody tr th:only-of-type {\n",
       "        vertical-align: middle;\n",
       "    }\n",
       "\n",
       "    .dataframe tbody tr th {\n",
       "        vertical-align: top;\n",
       "    }\n",
       "\n",
       "    .dataframe thead th {\n",
       "        text-align: right;\n",
       "    }\n",
       "</style>\n",
       "<table border=\"1\" class=\"dataframe\">\n",
       "  <thead>\n",
       "    <tr style=\"text-align: right;\">\n",
       "      <th></th>\n",
       "      <th>Unnamed: 0</th>\n",
       "      <th>City</th>\n",
       "      <th>Lat</th>\n",
       "      <th>Lng</th>\n",
       "      <th>Max Temp</th>\n",
       "      <th>Humidity</th>\n",
       "      <th>Cloudiness</th>\n",
       "      <th>Wind Speed</th>\n",
       "      <th>Country</th>\n",
       "      <th>Date</th>\n",
       "      <th>Hotel Name</th>\n",
       "    </tr>\n",
       "  </thead>\n",
       "  <tbody>\n",
       "    <tr>\n",
       "      <td>13</td>\n",
       "      <td>13</td>\n",
       "      <td>Punta Arenas</td>\n",
       "      <td>-53.1500</td>\n",
       "      <td>-70.9167</td>\n",
       "      <td>33.91</td>\n",
       "      <td>60</td>\n",
       "      <td>75</td>\n",
       "      <td>5.75</td>\n",
       "      <td>CL</td>\n",
       "      <td>1631760722</td>\n",
       "      <td>Punta Arenas</td>\n",
       "    </tr>\n",
       "    <tr>\n",
       "      <td>23</td>\n",
       "      <td>23</td>\n",
       "      <td>Chokurdakh</td>\n",
       "      <td>70.6333</td>\n",
       "      <td>147.9167</td>\n",
       "      <td>39.18</td>\n",
       "      <td>63</td>\n",
       "      <td>94</td>\n",
       "      <td>9.40</td>\n",
       "      <td>RU</td>\n",
       "      <td>1631760736</td>\n",
       "      <td>Chokurdakh</td>\n",
       "    </tr>\n",
       "    <tr>\n",
       "      <td>33</td>\n",
       "      <td>33</td>\n",
       "      <td>Cherskiy</td>\n",
       "      <td>68.7500</td>\n",
       "      <td>161.3000</td>\n",
       "      <td>36.23</td>\n",
       "      <td>57</td>\n",
       "      <td>87</td>\n",
       "      <td>11.92</td>\n",
       "      <td>RU</td>\n",
       "      <td>1631760752</td>\n",
       "      <td>Chersky</td>\n",
       "    </tr>\n",
       "    <tr>\n",
       "      <td>67</td>\n",
       "      <td>67</td>\n",
       "      <td>Bluff</td>\n",
       "      <td>-46.6000</td>\n",
       "      <td>168.3333</td>\n",
       "      <td>48.79</td>\n",
       "      <td>59</td>\n",
       "      <td>82</td>\n",
       "      <td>12.88</td>\n",
       "      <td>NZ</td>\n",
       "      <td>1631760793</td>\n",
       "      <td>Invercargill</td>\n",
       "    </tr>\n",
       "    <tr>\n",
       "      <td>103</td>\n",
       "      <td>103</td>\n",
       "      <td>Fort Nelson</td>\n",
       "      <td>58.8053</td>\n",
       "      <td>-122.7002</td>\n",
       "      <td>49.59</td>\n",
       "      <td>62</td>\n",
       "      <td>40</td>\n",
       "      <td>5.75</td>\n",
       "      <td>CA</td>\n",
       "      <td>1631760836</td>\n",
       "      <td>Fort Nelson</td>\n",
       "    </tr>\n",
       "  </tbody>\n",
       "</table>\n",
       "</div>"
      ],
      "text/plain": [
       "     Unnamed: 0          City      Lat       Lng  Max Temp  Humidity  \\\n",
       "13           13  Punta Arenas -53.1500  -70.9167     33.91        60   \n",
       "23           23    Chokurdakh  70.6333  147.9167     39.18        63   \n",
       "33           33      Cherskiy  68.7500  161.3000     36.23        57   \n",
       "67           67         Bluff -46.6000  168.3333     48.79        59   \n",
       "103         103   Fort Nelson  58.8053 -122.7002     49.59        62   \n",
       "\n",
       "     Cloudiness  Wind Speed Country        Date    Hotel Name  \n",
       "13           75        5.75      CL  1631760722  Punta Arenas  \n",
       "23           94        9.40      RU  1631760736    Chokurdakh  \n",
       "33           87       11.92      RU  1631760752       Chersky  \n",
       "67           82       12.88      NZ  1631760793  Invercargill  \n",
       "103          40        5.75      CA  1631760836   Fort Nelson  "
      ]
     },
     "execution_count": 47,
     "metadata": {},
     "output_type": "execute_result"
    }
   ],
   "source": [
    "hotel_df.head()"
   ]
  },
  {
   "cell_type": "code",
   "execution_count": 48,
   "metadata": {},
   "outputs": [],
   "source": [
    "# NOTE: Do not change any of the code in this cell\n",
    "\n",
    "# Using the template add the hotel marks to the heatmap\n",
    "info_box_template = \"\"\"\n",
    "<dl>\n",
    "<dt>Name</dt><dd>{Hotel Name}</dd>\n",
    "<dt>City</dt><dd>{City}</dd>\n",
    "<dt>Country</dt><dd>{Country}</dd>\n",
    "</dl>\n",
    "\"\"\"\n",
    "# Store the DataFrame Row\n",
    "# NOTE: be sure to update with your DataFrame name\n",
    "hotel_info = [info_box_template.format(**row) for index, row in hotel_df.iterrows()]\n",
    "locations = hotel_df[[\"Lat\", \"Lng\"]]"
   ]
  },
  {
   "cell_type": "code",
   "execution_count": 49,
   "metadata": {},
   "outputs": [
    {
     "data": {
      "application/vnd.jupyter.widget-view+json": {
       "model_id": "3f250a14ae7442819d2b5f301fa3804e",
       "version_major": 2,
       "version_minor": 0
      },
      "text/plain": [
       "Figure(layout=FigureLayout(height='420px'))"
      ]
     },
     "metadata": {},
     "output_type": "display_data"
    }
   ],
   "source": [
    "# Add marker layer ontop of heat map\n",
    "markers = gmaps.marker_layer(locations)\n",
    "# Add the layer to the map\n",
    "fig.add_layer(markers)\n",
    "fig\n",
    "#Setting information box marker variables\n",
    "\n",
    "hotel_info_box = [info_box_template.format(**row) for index, row in hotel_df.iterrows()]\n",
    "\n",
    "# Assign the marker layer to a variable\n",
    "marker= gmaps.marker_layer(locations, info_box_content=hotel_info_box)\n",
    "\n",
    "#Setting map zoom and center\n",
    "center_coordinates = (0,0)\n",
    "fig = gmaps.figure(center = center_coordinates, zoom_level=1)\n",
    "# Display figure\n",
    "fig.add_layer(heat_layer)\n",
    "fig.add_layer(marker)\n",
    "\n",
    "fig"
   ]
  },
  {
   "cell_type": "code",
   "execution_count": null,
   "metadata": {},
   "outputs": [],
   "source": []
  }
 ],
 "metadata": {
  "kernelspec": {
   "display_name": "Python 3",
   "language": "python",
   "name": "python3"
  },
  "language_info": {
   "codemirror_mode": {
    "name": "ipython",
    "version": 3
   },
   "file_extension": ".py",
   "mimetype": "text/x-python",
   "name": "python",
   "nbconvert_exporter": "python",
   "pygments_lexer": "ipython3",
   "version": "3.7.4"
  },
  "latex_envs": {
   "LaTeX_envs_menu_present": true,
   "autoclose": false,
   "autocomplete": true,
   "bibliofile": "biblio.bib",
   "cite_by": "apalike",
   "current_citInitial": 1,
   "eqLabelWithNumbers": true,
   "eqNumInitial": 1,
   "hotkeys": {
    "equation": "Ctrl-E",
    "itemize": "Ctrl-I"
   },
   "labels_anchors": false,
   "latex_user_defs": false,
   "report_style_numbering": false,
   "user_envs_cfg": false
  }
 },
 "nbformat": 4,
 "nbformat_minor": 4
}
